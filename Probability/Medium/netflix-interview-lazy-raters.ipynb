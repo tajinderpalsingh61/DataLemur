{
 "cells": [
  {
   "cell_type": "markdown",
   "metadata": {},
   "source": [
    "Question: https://datalemur.com/questions/netflix-interview-lazy-raters"
   ]
  },
  {
   "attachments": {},
   "cell_type": "markdown",
   "metadata": {},
   "source": [
    "$$\n",
    "P(LazyUser|3Likes)=\\ \\frac{P(3Likes|LazyUser)*P(LazyUser)}{P(3Likes)}\n",
    "$$\n",
    "\n",
    "$$\n",
    "P(3Likes|LazyUser) = 1\n",
    "$$\n",
    "\n",
    "$$\n",
    "P(LazyUser) = 0.2\n",
    "$$\n",
    "\n",
    "$$\n",
    "P(3Likes) = (P(NonLazyUser)*P(Like|NonLazyUser)*P(Like|NonLazyUser)*P(Like|NonLazyUser))\n",
    "$$\n",
    "\n",
    "$$\n",
    "+ (P(LazyUser)*P(Like|LazyUser)*P(Like|LazyUser)*P(Like|LazyUser))\n",
    "$$\n",
    "\n",
    "$$\n",
    "P(3Likes) = (0.8*0.6*0.6*0.6) + (0.2*1*1*1) = 0.3728\n",
    "$$\n",
    "\n",
    "$$\n",
    "P(LazyUser|3Likes) = (1*0.2)/0.3728 = 0.5364806866952789\n",
    "$$"
   ]
  },
  {
   "cell_type": "code",
   "execution_count": 1,
   "metadata": {},
   "outputs": [
    {
     "data": {
      "text/plain": [
       "0.3728"
      ]
     },
     "execution_count": 1,
     "metadata": {},
     "output_type": "execute_result"
    }
   ],
   "source": [
    "(0.8*(0.6)**3) + (0.2*1*1*1)"
   ]
  },
  {
   "cell_type": "code",
   "execution_count": 2,
   "metadata": {},
   "outputs": [
    {
     "data": {
      "text/plain": [
       "0.5364806866952789"
      ]
     },
     "execution_count": 2,
     "metadata": {},
     "output_type": "execute_result"
    }
   ],
   "source": [
    "(1*0.2)/0.3728"
   ]
  }
 ],
 "metadata": {
  "kernelspec": {
   "display_name": "smvenv",
   "language": "python",
   "name": "python3"
  },
  "language_info": {
   "codemirror_mode": {
    "name": "ipython",
    "version": 3
   },
   "file_extension": ".py",
   "mimetype": "text/x-python",
   "name": "python",
   "nbconvert_exporter": "python",
   "pygments_lexer": "ipython3",
   "version": "3.8.10"
  },
  "orig_nbformat": 4,
  "vscode": {
   "interpreter": {
    "hash": "3db60f6d0ada829ae7dc6114ffc8c191aa601b3ec0b6737bae8143c07d8e4640"
   }
  }
 },
 "nbformat": 4,
 "nbformat_minor": 2
}
