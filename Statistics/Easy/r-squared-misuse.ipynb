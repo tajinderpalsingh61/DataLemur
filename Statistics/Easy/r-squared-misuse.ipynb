{
 "cells": [
  {
   "cell_type": "markdown",
   "metadata": {},
   "source": [
    "Question: https://datalemur.com/questions/r-squared-misuse"
   ]
  },
  {
   "attachments": {},
   "cell_type": "markdown",
   "metadata": {},
   "source": [
    "Solution: I found some good points and examples regarding R squared in below link. I will try to explain some of these these points by converting them in to python code\n",
    "\n",
    "Reference: https://data.library.virginia.edu/is-r-squared-useless/\n",
    "\n",
    "In case you found an issue, I request you to kindly raise a bug I will try to fix.\n"
   ]
  },
  {
   "attachments": {},
   "cell_type": "markdown",
   "metadata": {},
   "source": [
    " #####  1.  R-squared does not measure goodness of fit. It can be arbitrarily low when the model is completely correct. By making σ2 large, we drive R-squared towards 0, even when every assumption of the simple linear regression model is correct in every particular."
   ]
  },
  {
   "cell_type": "code",
   "execution_count": 58,
   "metadata": {},
   "outputs": [],
   "source": [
    "import numpy as np\n",
    "import pandas as pd\n",
    "from sklearn.linear_model import LinearRegression\n",
    "from sklearn.metrics import r2_score\n",
    "import matplotlib.pyplot as plt\n",
    "import seaborn as sns\n",
    "\n",
    "np.random.seed(0)"
   ]
  },
  {
   "cell_type": "code",
   "execution_count": 9,
   "metadata": {},
   "outputs": [],
   "source": [
    "x = np.linspace(1, 10, 100)\n",
    "sd = 5\n",
    "y = 2 + 1.2*x + np.random.normal(loc=0, scale=sd, size=100)"
   ]
  },
  {
   "cell_type": "code",
   "execution_count": 10,
   "metadata": {},
   "outputs": [],
   "source": [
    "def gen_r2(sd):\n",
    "    x = np.linspace(1, 10, 100) #predictor\n",
    "    df_x = pd.DataFrame({'x': x})\n",
    "    y = 2 + 1.2*x + np.random.normal(loc=0, scale=sd, size=100) #target=function of x + random noise\n",
    "    reg = LinearRegression()\n",
    "    reg.fit(df_x, y)\n",
    "    y_hat = reg.predict(df_x)\n",
    "    return r2_score(y, y_hat) #return r2 score\n",
    "\n",
    "sigmas = np.linspace(0.5, 20, 20)\n",
    "df = pd.DataFrame({'sigma':sigmas})\n",
    "df['r2'] = df['sigma'].apply(lambda x: gen_r2(x))"
   ]
  },
  {
   "cell_type": "code",
   "execution_count": 11,
   "metadata": {},
   "outputs": [
    {
     "data": {
      "image/png": "[encoded data removed]",
      "text/plain": [
       "<Figure size 576x360 with 1 Axes>"
      ]
     },
     "metadata": {
      "needs_background": "light"
     },
     "output_type": "display_data"
    }
   ],
   "source": [
    "plt.figure(figsize=(8, 5))\n",
    "sns.scatterplot(x=df['sigma'], y=df['r2'])\n",
    "plt.title(\"Sigma/ r2\")\n",
    "plt.xlabel=\"sigma\"\n",
    "plt.ylabel=\"r2\"\n",
    "plt.show()"
   ]
  },
  {
   "cell_type": "markdown",
   "metadata": {},
   "source": [
    "#### 2. R-squared can be arbitrarily close to 1 when the model is totally wrong. "
   ]
  },
  {
   "cell_type": "code",
   "execution_count": 54,
   "metadata": {},
   "outputs": [
    {
     "data": {
      "text/html": [
       "<div>\n",
       "<style scoped>\n",
       "    .dataframe tbody tr th:only-of-type {\n",
       "        vertical-align: middle;\n",
       "    }\n",
       "\n",
       "    .dataframe tbody tr th {\n",
       "        vertical-align: top;\n",
       "    }\n",
       "\n",
       "    .dataframe thead th {\n",
       "        text-align: right;\n",
       "    }\n",
       "</style>\n",
       "<table border=\"1\" class=\"dataframe\">\n",
       "  <thead>\n",
       "    <tr style=\"text-align: right;\">\n",
       "      <th></th>\n",
       "      <th>x</th>\n",
       "      <th>y</th>\n",
       "    </tr>\n",
       "  </thead>\n",
       "  <tbody>\n",
       "    <tr>\n",
       "      <th>0</th>\n",
       "      <td>3.954825</td>\n",
       "      <td>7.236153</td>\n",
       "    </tr>\n",
       "    <tr>\n",
       "      <th>1</th>\n",
       "      <td>7.487827</td>\n",
       "      <td>49.959324</td>\n",
       "    </tr>\n",
       "    <tr>\n",
       "      <th>2</th>\n",
       "      <td>21.710491</td>\n",
       "      <td>440.608401</td>\n",
       "    </tr>\n",
       "    <tr>\n",
       "      <th>3</th>\n",
       "      <td>4.420302</td>\n",
       "      <td>10.310059</td>\n",
       "    </tr>\n",
       "    <tr>\n",
       "      <th>4</th>\n",
       "      <td>23.918005</td>\n",
       "      <td>473.200101</td>\n",
       "    </tr>\n",
       "  </tbody>\n",
       "</table>\n",
       "</div>"
      ],
      "text/plain": [
       "           x           y\n",
       "0   3.954825    7.236153\n",
       "1   7.487827   49.959324\n",
       "2  21.710491  440.608401\n",
       "3   4.420302   10.310059\n",
       "4  23.918005  473.200101"
      ]
     },
     "execution_count": 54,
     "metadata": {},
     "output_type": "execute_result"
    }
   ],
   "source": [
    "df.head(5)"
   ]
  },
  {
   "cell_type": "code",
   "execution_count": 95,
   "metadata": {},
   "outputs": [
    {
     "data": {
      "text/plain": [
       "<AxesSubplot:xlabel='x', ylabel='y'>"
      ]
     },
     "execution_count": 95,
     "metadata": {},
     "output_type": "execute_result"
    },
    {
     "data": {
      "image/png": "[encoded data removed]",
      "text/plain": [
       "<Figure size 432x288 with 1 Axes>"
      ]
     },
     "metadata": {
      "needs_background": "light"
     },
     "output_type": "display_data"
    }
   ],
   "source": [
    "prng = np.random.RandomState(4)\n",
    "x = prng.exponential(size=50)\n",
    "y = ((x-1)**2) * prng.uniform(low=0.8, high=1.2, size=50)\n",
    "df =  pd.DataFrame({'x':x, 'y':y})\n",
    "sns.regplot(data=df, x='x', y='y')"
   ]
  },
  {
   "cell_type": "code",
   "execution_count": 96,
   "metadata": {},
   "outputs": [
    {
     "data": {
      "text/plain": [
       "0.6931989218086596"
      ]
     },
     "execution_count": 96,
     "metadata": {},
     "output_type": "execute_result"
    }
   ],
   "source": [
    "reg = LinearRegression()\n",
    "reg.fit(df[['x']], df['y'])\n",
    "y_hat = reg.predict(df[['x']])\n",
    "r2_score(y, y_hat)"
   ]
  }
 ],
 "metadata": {
  "kernelspec": {
   "display_name": "smvenv",
   "language": "python",
   "name": "python3"
  },
  "language_info": {
   "codemirror_mode": {
    "name": "ipython",
    "version": 3
   },
   "file_extension": ".py",
   "mimetype": "text/x-python",
   "name": "python",
   "nbconvert_exporter": "python",
   "pygments_lexer": "ipython3",
   "version": "3.8.10"
  },
  "orig_nbformat": 4,
  "vscode": {
   "interpreter": {
    "hash": "3db60f6d0ada829ae7dc6114ffc8c191aa601b3ec0b6737bae8143c07d8e4640"
   }
  }
 },
 "nbformat": 4,
 "nbformat_minor": 2
}
