{
 "cells": [
  {
   "cell_type": "markdown",
   "metadata": {},
   "source": [
    "Question: https://datalemur.com/questions/precision-recall-tradeoff"
   ]
  },
  {
   "attachments": {},
   "cell_type": "markdown",
   "metadata": {},
   "source": [
    "Solution:\n",
    "\n",
    "Precision and Recall are used a evaluation metrics for the classification problems. These metrics are very useful specially in case of imbalance datasets. Let me try to explain these metrics using a binary classification problem in which target is to predict default customers.\n",
    "\n",
    "**Recall:** Out of total default how much we are able to predict.\n",
    "\n",
    "$$\n",
    "Recall:\\ \\frac{TP}{TP+FN}\n",
    "$$\n",
    "\n",
    "**Precision:** Out of total default we predicted, how many of there are actually default\n",
    "\n",
    "$$\n",
    "Precision:\\ \\frac{TP}{TP+FP}\n",
    "$$\n",
    "\n"
   ]
  }
 ],
 "metadata": {
  "kernelspec": {
   "display_name": "smvenv",
   "language": "python",
   "name": "python3"
  },
  "language_info": {
   "codemirror_mode": {
    "name": "ipython",
    "version": 3
   },
   "file_extension": ".py",
   "mimetype": "text/x-python",
   "name": "python",
   "nbconvert_exporter": "python",
   "pygments_lexer": "ipython3",
   "version": "3.8.10"
  },
  "orig_nbformat": 4,
  "vscode": {
   "interpreter": {
    "hash": "3db60f6d0ada829ae7dc6114ffc8c191aa601b3ec0b6737bae8143c07d8e4640"
   }
  }
 },
 "nbformat": 4,
 "nbformat_minor": 2
}
