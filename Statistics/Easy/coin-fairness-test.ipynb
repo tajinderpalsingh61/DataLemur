{
 "cells": [
  {
   "attachments": {},
   "cell_type": "markdown",
   "metadata": {},
   "source": [
    "Question: https://datalemur.com/questions/coin-fairness-test"
   ]
  },
  {
   "attachments": {},
   "cell_type": "markdown",
   "metadata": {},
   "source": [
    "**Solution**:\n",
    "\n",
    "**Null Hypothesis**: Coin is a Fair Coin\n",
    "\n",
    "**Alternate Hypothesis**: Coin is a not Fair Coin biased towards the tail\n",
    "\n",
    "\n",
    "As we can see in the question, **out of 10 times** only **1 time head** is observed. To calculate we probability of this event we can use Binomial Distribution Formula.\n",
    "\n",
    "$$\n",
    "Binomial \\ probability:\\ ^{n}C_{r} \\  p^{r} \\ (1-p)^{n-r}\n",
    "$$\n",
    "$$\n",
    "n = 10\n",
    "$$\n",
    "$$\n",
    "r = 1\n",
    "$$\n",
    "$$\n",
    "p = 0.5\n",
    "$$\n"
   ]
  },
  {
   "cell_type": "code",
   "execution_count": 14,
   "metadata": {},
   "outputs": [
    {
     "data": {
      "text/plain": [
       "0.009765625"
      ]
     },
     "execution_count": 14,
     "metadata": {},
     "output_type": "execute_result"
    }
   ],
   "source": [
    "import math\n",
    "#Calculating binomial probability\n",
    "n = 10\n",
    "r = 1\n",
    "p = 0.5\n",
    "(math.factorial(n) / ((math.factorial(r))*math.factorial(n-r))) * (p**r) * ((1-p)**(n-r))"
   ]
  },
  {
   "attachments": {},
   "cell_type": "markdown",
   "metadata": {},
   "source": [
    "Now, in this probability of the given case is the p-value\n",
    "\n",
    "$$\n",
    "p-value \\ = 0.009765625 < 0.05\n",
    "$$\n",
    "\n",
    "**p-value is less than 0.05, So we can reject the null hypthesis**"
   ]
  }
 ],
 "metadata": {
  "kernelspec": {
   "display_name": "smvenv",
   "language": "python",
   "name": "python3"
  },
  "language_info": {
   "codemirror_mode": {
    "name": "ipython",
    "version": 3
   },
   "file_extension": ".py",
   "mimetype": "text/x-python",
   "name": "python",
   "nbconvert_exporter": "python",
   "pygments_lexer": "ipython3",
   "version": "3.8.10"
  },
  "orig_nbformat": 4,
  "vscode": {
   "interpreter": {
    "hash": "3db60f6d0ada829ae7dc6114ffc8c191aa601b3ec0b6737bae8143c07d8e4640"
   }
  }
 },
 "nbformat": 4,
 "nbformat_minor": 2
}
