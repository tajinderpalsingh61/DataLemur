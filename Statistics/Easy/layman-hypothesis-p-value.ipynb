{
 "cells": [
  {
   "cell_type": "markdown",
   "metadata": {},
   "source": [
    "Question: https://datalemur.com/questions/layman-hypothesis-p-value"
   ]
  },
  {
   "attachments": {},
   "cell_type": "markdown",
   "metadata": {},
   "source": [
    "    Solution: The p-value is number, calculated from statistacl test, that desccribes how likely you are to have found a particular set of observations if the null hypothesis were true. P-value is used in hypothesis testing te help decide whether to reject the null hypothesis. Smaller the p-value more likely you are to reject the null hypothesis.\n",
    "\n",
    "    Hypothesis tetsing is an act in statistics whereby an analysts tests an assumption regarding the population paeameter. Hypothesis Testing is used to assess the plausibility of hypothesis by using sample data.\n",
    "\n",
    "    References: \n",
    "    https://www.scribbr.com/statistics/p-value/ \n",
    "    https://www.investopedia.com/terms/h/hypothesistesting.asp"
   ]
  }
 ],
 "metadata": {
  "kernelspec": {
   "display_name": "smvenv",
   "language": "python",
   "name": "python3"
  },
  "language_info": {
   "codemirror_mode": {
    "name": "ipython",
    "version": 3
   },
   "file_extension": ".py",
   "mimetype": "text/x-python",
   "name": "python",
   "nbconvert_exporter": "python",
   "pygments_lexer": "ipython3",
   "version": "3.8.10"
  },
  "orig_nbformat": 4,
  "vscode": {
   "interpreter": {
    "hash": "3db60f6d0ada829ae7dc6114ffc8c191aa601b3ec0b6737bae8143c07d8e4640"
   }
  }
 },
 "nbformat": 4,
 "nbformat_minor": 2
}
