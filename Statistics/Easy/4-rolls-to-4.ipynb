{
 "cells": [
  {
   "cell_type": "markdown",
   "metadata": {},
   "source": [
    "Question: https://datalemur.com/questions/4-rolls-to-4"
   ]
  },
  {
   "cell_type": "markdown",
   "metadata": {},
   "source": [
    "**Solution**:\n",
    "\n",
    "Fair dice is rolled so probability of each outcome is same (1/6).\n",
    "\n",
    "Total possible oucomes are when a die is rolled [1, 2, 3, 4, 5, 6]\n",
    "\n",
    "$$\n",
    "P(Roll > 4) = 2/6\n",
    "$$\n",
    "\n",
    "$$\n",
    "P(Roll <= 4) = 4/6\n",
    "$$\n",
    "\n",
    "P(A) = Takes 4 rolls to roll a number greater than 4.\n",
    "\n",
    "It means 1st 3 times roll should be lesser than 4 and 4th time roll will be greater than 4 \n",
    "\n",
    "$$\n",
    "P(A) = P(Roll < 4)^3 * P(Roll > 4)\n",
    "$$\n",
    "\n",
    "$$\n",
    "P(A) = (4/6)^3 * (2/6) = 0.0987654320987654\n",
    "$$"
   ]
  },
  {
   "cell_type": "markdown",
   "metadata": {},
   "source": []
  },
  {
   "cell_type": "code",
   "execution_count": 1,
   "metadata": {},
   "outputs": [
    {
     "data": {
      "text/plain": [
       "0.0987654320987654"
      ]
     },
     "execution_count": 1,
     "metadata": {},
     "output_type": "execute_result"
    }
   ],
   "source": [
    "#Calc P(A)\n",
    "((4/6)**3) * (2/6)"
   ]
  }
 ],
 "metadata": {
  "kernelspec": {
   "display_name": "Python 3.8.10 ('smvenv')",
   "language": "python",
   "name": "python3"
  },
  "language_info": {
   "codemirror_mode": {
    "name": "ipython",
    "version": 3
   },
   "file_extension": ".py",
   "mimetype": "text/x-python",
   "name": "python",
   "nbconvert_exporter": "python",
   "pygments_lexer": "ipython3",
   "version": "3.8.10"
  },
  "orig_nbformat": 4,
  "vscode": {
   "interpreter": {
    "hash": "3db60f6d0ada829ae7dc6114ffc8c191aa601b3ec0b6737bae8143c07d8e4640"
   }
  }
 },
 "nbformat": 4,
 "nbformat_minor": 2
}
