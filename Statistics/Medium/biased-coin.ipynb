{
 "cells": [
  {
   "cell_type": "markdown",
   "metadata": {},
   "source": [
    "Question: https://datalemur.com/questions/biased-coin"
   ]
  },
  {
   "attachments": {},
   "cell_type": "markdown",
   "metadata": {},
   "source": [
    "**Solution:** \n",
    "\n",
    "**Null Hypothesis:** Coin is not biased. So, mean = 500\n",
    "$$\n",
    "\\mu = 1000*0.5 = 500\n",
    "$$\n",
    "\n",
    "$$\n",
    "\\sigma^{2} = n*p*(1-p)\n",
    "$$\n",
    "\n",
    "$$\n",
    "n=1000, p=0.5\n",
    "$$\n",
    "\n",
    "$$\n",
    "\\sigma^{2} = 1000*0.5*(1-0.5) = 250.0\n",
    "$$\n",
    "\n",
    "$$\n",
    "\\sigma = \\sqrt250 \\approx 16\n",
    "$$\n",
    "\n",
    "$$\n",
    "z = (x-\\mu)/sigma = (550-500)/16 = 3.125\n",
    "$$"
   ]
  },
  {
   "cell_type": "code",
   "execution_count": 5,
   "metadata": {},
   "outputs": [
    {
     "data": {
      "text/plain": [
       "15.811388300841896"
      ]
     },
     "execution_count": 5,
     "metadata": {},
     "output_type": "execute_result"
    }
   ],
   "source": [
    "import numpy as np\n",
    "np.sqrt(1000*0.5*(1-0.5))"
   ]
  },
  {
   "cell_type": "code",
   "execution_count": 6,
   "metadata": {},
   "outputs": [
    {
     "data": {
      "text/plain": [
       "3.125"
      ]
     },
     "execution_count": 6,
     "metadata": {},
     "output_type": "execute_result"
    }
   ],
   "source": [
    "(550-500)/16"
   ]
  },
  {
   "cell_type": "code",
   "execution_count": 13,
   "metadata": {},
   "outputs": [
    {
     "data": {
      "text/plain": [
       "0.00016939724527716355"
      ]
     },
     "execution_count": 13,
     "metadata": {},
     "output_type": "execute_result"
    }
   ],
   "source": [
    "from scipy import stats\n",
    "n = 1000\n",
    "p = 0.5\n",
    "r = 550\n",
    "stats.binom.pmf(r, n, p)"
   ]
  }
 ],
 "metadata": {
  "kernelspec": {
   "display_name": "smvenv",
   "language": "python",
   "name": "python3"
  },
  "language_info": {
   "codemirror_mode": {
    "name": "ipython",
    "version": 3
   },
   "file_extension": ".py",
   "mimetype": "text/x-python",
   "name": "python",
   "nbconvert_exporter": "python",
   "pygments_lexer": "ipython3",
   "version": "3.8.10"
  },
  "orig_nbformat": 4,
  "vscode": {
   "interpreter": {
    "hash": "3db60f6d0ada829ae7dc6114ffc8c191aa601b3ec0b6737bae8143c07d8e4640"
   }
  }
 },
 "nbformat": 4,
 "nbformat_minor": 2
}
